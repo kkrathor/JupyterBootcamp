{
 "cells": [
  {
   "cell_type": "code",
   "execution_count": 29,
   "metadata": {},
   "outputs": [],
   "source": [
    "from unittest.mock import patch, create_autospec"
   ]
  },
  {
   "cell_type": "code",
   "execution_count": 55,
   "metadata": {},
   "outputs": [],
   "source": [
    "import pygit2\n",
    "from pygit2 import Repository\n",
    "from pygit2 import GIT_SORT_TOPOLOGICAL, GIT_SORT_REVERSE"
   ]
  },
  {
   "cell_type": "code",
   "execution_count": 78,
   "metadata": {},
   "outputs": [],
   "source": [
    "repo_path = r\"C:\\Users\\manoj.phatak\\AppData\\Local\\Temp\\git_repos_clone\\testproject.git\\.git\""
   ]
  },
  {
   "cell_type": "code",
   "execution_count": 79,
   "metadata": {},
   "outputs": [],
   "source": [
    "repos = Repository(repo_path)"
   ]
  },
  {
   "cell_type": "code",
   "execution_count": 80,
   "metadata": {},
   "outputs": [
    {
     "data": {
      "text/plain": [
       "<_pygit2.Reference at 0x243116b9e30>"
      ]
     },
     "execution_count": 80,
     "metadata": {},
     "output_type": "execute_result"
    }
   ],
   "source": [
    "repos.head"
   ]
  },
  {
   "cell_type": "code",
   "execution_count": 81,
   "metadata": {},
   "outputs": [
    {
     "data": {
      "text/plain": [
       "5dc1123024c95047311c643e63a67c89a18c45fe"
      ]
     },
     "execution_count": 81,
     "metadata": {},
     "output_type": "execute_result"
    }
   ],
   "source": [
    "repos.head.target"
   ]
  },
  {
   "cell_type": "code",
   "execution_count": 65,
   "metadata": {},
   "outputs": [
    {
     "data": {
      "text/plain": [
       "<_pygit2.Walker at 0x243116b94d0>"
      ]
     },
     "execution_count": 65,
     "metadata": {},
     "output_type": "execute_result"
    }
   ],
   "source": [
    "commits = repos.walk(repos.head.target, GIT_SORT_TOPOLOGICAL | GIT_SORT_REVERSE) \n",
    "commits"
   ]
  },
  {
   "cell_type": "code",
   "execution_count": 66,
   "metadata": {},
   "outputs": [
    {
     "name": "stdout",
     "output_type": "stream",
     "text": [
      "<_pygit2.Commit object at 0x00000243116B9AF0>\n",
      "<_pygit2.Signature object at 0x00000243117A61E8>\n",
      "first commit\n",
      "\n"
     ]
    }
   ],
   "source": [
    "for c in commits:\n",
    "    print(c)\n",
    "    print(c.author)\n",
    "    print(c.message)"
   ]
  },
  {
   "cell_type": "markdown",
   "metadata": {},
   "source": [
    "## Mocks"
   ]
  },
  {
   "cell_type": "code",
   "execution_count": 31,
   "metadata": {},
   "outputs": [],
   "source": [
    "mock_repos = create_autospec(Repository)"
   ]
  },
  {
   "cell_type": "code",
   "execution_count": 36,
   "metadata": {},
   "outputs": [
    {
     "data": {
      "text/plain": [
       "<MagicMock name='mock.walk()' id='2487078068912'>"
      ]
     },
     "execution_count": 36,
     "metadata": {},
     "output_type": "execute_result"
    }
   ],
   "source": [
    "commits = mock_repos.walk(repos.head.target, GIT_SORT_TOPOLOGICAL | GIT_SORT_REVERSE) \n",
    "commits"
   ]
  },
  {
   "cell_type": "code",
   "execution_count": 37,
   "metadata": {},
   "outputs": [],
   "source": [
    "for c in commits:\n",
    "    print(c)\n",
    "    print(c.author.name)"
   ]
  },
  {
   "cell_type": "markdown",
   "metadata": {},
   "source": [
    "## Patch"
   ]
  },
  {
   "cell_type": "code",
   "execution_count": 84,
   "metadata": {},
   "outputs": [],
   "source": [
    "def create_mock_repo_walker():\n",
    "    mock_repos = patch('pygit2.repository.Repository')\n",
    "    mock_commit = patch('pygit2.commit')\n",
    "    \n",
    "    mock_commit.message = \"test commit message\"\n",
    "    mock_commit.hex = \"1234\"\n",
    "    mock_commit.commit_time = 12345\n",
    "    mock_commit.parents = []\n",
    "    \n",
    "    mock_author = patch('pygit2.Signature')\n",
    "    mock_author.name = \"Manoj\"\n",
    "    mock_author.email = \"Manoj@Geometric.com\"\n",
    "    mock_commit.author = mock_author\n",
    "    \n",
    "    mock_repo_head = patch('pygit2.Reference')\n",
    "    mock_repo_head.target = 12345\n",
    "    \n",
    "    mock_repos.head = mock_repo_head\n",
    "    mock_repos.walk = lambda x,y: [mock_commit]\n",
    "    return mock_repos"
   ]
  },
  {
   "cell_type": "code",
   "execution_count": 85,
   "metadata": {},
   "outputs": [
    {
     "data": {
      "text/plain": [
       "[<unittest.mock._patch at 0x243117a9a58>]"
      ]
     },
     "execution_count": 85,
     "metadata": {},
     "output_type": "execute_result"
    }
   ],
   "source": [
    "mock_repos = create_mock_repo_walker()\n",
    "commits = mock_repos.walk(repos.head.target, GIT_SORT_TOPOLOGICAL | GIT_SORT_REVERSE) \n",
    "commits"
   ]
  },
  {
   "cell_type": "code",
   "execution_count": 86,
   "metadata": {},
   "outputs": [
    {
     "name": "stdout",
     "output_type": "stream",
     "text": [
      "<unittest.mock._patch object at 0x00000243117A9A58>\n",
      "test commit message\n",
      "Manoj\n",
      "Manoj@Geometric.com\n",
      "12345\n"
     ]
    }
   ],
   "source": [
    "for c in commits:\n",
    "    print(c)\n",
    "    print(c.message)\n",
    "    print(c.author.name)\n",
    "    print(c.author.email)\n",
    "    print(c.commit_time)"
   ]
  },
  {
   "cell_type": "code",
   "execution_count": null,
   "metadata": {},
   "outputs": [],
   "source": []
  }
 ],
 "metadata": {
  "kernelspec": {
   "display_name": "Python 3",
   "language": "python",
   "name": "python3"
  },
  "language_info": {
   "codemirror_mode": {
    "name": "ipython",
    "version": 3
   },
   "file_extension": ".py",
   "mimetype": "text/x-python",
   "name": "python",
   "nbconvert_exporter": "python",
   "pygments_lexer": "ipython3",
   "version": "3.6.5"
  }
 },
 "nbformat": 4,
 "nbformat_minor": 2
}
