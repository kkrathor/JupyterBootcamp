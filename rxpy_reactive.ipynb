{
 "cells": [
  {
   "cell_type": "code",
   "execution_count": 1,
   "metadata": {},
   "outputs": [],
   "source": [
    "import rx\n",
    "from rx import Observable, Observer"
   ]
  },
  {
   "cell_type": "code",
   "execution_count": null,
   "metadata": {},
   "outputs": [],
   "source": []
  },
  {
   "cell_type": "markdown",
   "metadata": {},
   "source": [
    "## Hello World"
   ]
  },
  {
   "cell_type": "code",
   "execution_count": 3,
   "metadata": {},
   "outputs": [
    {
     "name": "stdout",
     "output_type": "stream",
     "text": [
      "Got: 0\n",
      "Got: 2\n",
      "Got: 4\n",
      "Got: 6\n",
      "Got: 8\n",
      "Sequence completed\n"
     ]
    }
   ],
   "source": [
    "class MyObserver(Observer):\n",
    "    def on_next(self, x):\n",
    "        print(\"Got: %s\" % x)\n",
    "        \n",
    "    def on_error(self, e):\n",
    "        print(\"Got error: %s\" % e)\n",
    "        \n",
    "    def on_completed(self):\n",
    "        print(\"Sequence completed\")\n",
    "\n",
    "xs = Observable.from_iterable(range(5)) \\\n",
    "               .map(lambda x: x*2) \n",
    "\n",
    "d = xs.subscribe(MyObserver())"
   ]
  },
  {
   "cell_type": "markdown",
   "metadata": {},
   "source": [
    "## Aggregations"
   ]
  },
  {
   "cell_type": "code",
   "execution_count": null,
   "metadata": {},
   "outputs": [],
   "source": [
    "xs = Observable.from_iterable(range(5)) \\\n",
    "               .window_with_count(2) \\\n",
    "               .subscribe(lambda x: x.subscribe(lambda val: print(\"Next: \", val), \n",
    "                                                lambda err: print(\"Err: \", err), \n",
    "                                                lambda: print(\"Complete!\")\n",
    "                )) "
   ]
  },
  {
   "cell_type": "code",
   "execution_count": 18,
   "metadata": {},
   "outputs": [
    {
     "name": "stdout",
     "output_type": "stream",
     "text": [
      "Next:  [0, 1]\n",
      "Next:  [2, 3]\n",
      "Next:  [4]\n",
      "Complete!\n"
     ]
    }
   ],
   "source": [
    "xs = Observable.from_iterable(range(5)) \\\n",
    "               .buffer_with_count(2) \\\n",
    "               .subscribe(lambda val: print(\"Next: \", val), \n",
    "                          lambda err: print(\"Err: \", err), \n",
    "                          lambda: print(\"Complete!\")\n",
    "                          ) "
   ]
  },
  {
   "cell_type": "markdown",
   "metadata": {},
   "source": [
    "## Concurrency"
   ]
  },
  {
   "cell_type": "code",
   "execution_count": 19,
   "metadata": {},
   "outputs": [
    {
     "data": {
      "text/plain": [
       "<rx.disposables.anonymousdisposable.AnonymousDisposable at 0x177c82cd978>"
      ]
     },
     "execution_count": 19,
     "metadata": {},
     "output_type": "execute_result"
    },
    {
     "name": "stdout",
     "output_type": "stream",
     "text": [
      "PROCESS 1: ThreadPoolExecutor-1_0 Alpha\n",
      "PROCESS 1: ThreadPoolExecutor-1_0 Beta\n",
      "PROCESS 1: ThreadPoolExecutor-1_0 Gamma\n",
      "PROCESS 1: ThreadPoolExecutor-1_0 Delta\n",
      "PROCESS 1: ThreadPoolExecutor-1_0 Epsilon\n",
      "PROCESS 1 done!\n"
     ]
    }
   ],
   "source": [
    "import multiprocessing\n",
    "import random\n",
    "import time\n",
    "from threading import current_thread\n",
    "\n",
    "from rx import Observable\n",
    "from rx.concurrency import ThreadPoolScheduler\n",
    "\n",
    "\n",
    "def intense_calculation(value):\n",
    "    # sleep for a random short duration between 0.5 to 2.0 seconds to simulate a long-running calculation\n",
    "    time.sleep(random.randint(5, 20) * .1)\n",
    "    return value\n",
    "\n",
    "# calculate number of CPU's, then create a ThreadPoolScheduler with that number of threads\n",
    "optimal_thread_count = multiprocessing.cpu_count()\n",
    "pool_scheduler = ThreadPoolScheduler(optimal_thread_count)\n",
    "\n",
    "# Create Process 1\n",
    "Observable.of(\"Alpha\", \"Beta\", \"Gamma\", \"Delta\", \"Epsilon\") \\\n",
    "    .map(lambda s: intense_calculation(s)) \\\n",
    "    .subscribe_on(pool_scheduler) \\\n",
    "    .subscribe(on_next=lambda s: print(\"PROCESS 1: {0} {1}\".format(current_thread().name, s)),\n",
    "               on_error=lambda e: print(e),\n",
    "               on_completed=lambda: print(\"PROCESS 1 done!\"))"
   ]
  },
  {
   "cell_type": "markdown",
   "metadata": {},
   "source": [
    "## sandbox"
   ]
  },
  {
   "cell_type": "code",
   "execution_count": 21,
   "metadata": {},
   "outputs": [],
   "source": [
    "def emit():\n",
    "    for i in range(5):\n",
    "        yield i"
   ]
  },
  {
   "cell_type": "code",
   "execution_count": 24,
   "metadata": {},
   "outputs": [
    {
     "name": "stdout",
     "output_type": "stream",
     "text": [
      "0\n",
      "2\n",
      "4\n",
      "6\n",
      "8\n"
     ]
    },
    {
     "data": {
      "text/plain": [
       "<rx.disposables.anonymousdisposable.AnonymousDisposable at 0x177c82cd518>"
      ]
     },
     "execution_count": 24,
     "metadata": {},
     "output_type": "execute_result"
    }
   ],
   "source": [
    "Observable.from_(emit()) \\\n",
    "    .map(lambda x: x*2) \\\n",
    "    .subscribe(print)                "
   ]
  },
  {
   "cell_type": "code",
   "execution_count": null,
   "metadata": {},
   "outputs": [],
   "source": []
  }
 ],
 "metadata": {
  "kernelspec": {
   "display_name": "Python 3",
   "language": "python",
   "name": "python3"
  },
  "language_info": {
   "codemirror_mode": {
    "name": "ipython",
    "version": 3
   },
   "file_extension": ".py",
   "mimetype": "text/x-python",
   "name": "python",
   "nbconvert_exporter": "python",
   "pygments_lexer": "ipython3",
   "version": "3.6.5"
  }
 },
 "nbformat": 4,
 "nbformat_minor": 2
}
