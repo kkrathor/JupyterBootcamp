{
 "cells": [
  {
   "cell_type": "markdown",
   "metadata": {},
   "source": [
    "# Extract useful information from Apache Access Logs"
   ]
  },
  {
   "cell_type": "markdown",
   "metadata": {},
   "source": [
    "# Ingest Logs #"
   ]
  },
  {
   "cell_type": "code",
   "execution_count": 1,
   "metadata": {},
   "outputs": [],
   "source": [
    "import os\n",
    "import re\n",
    "import functools"
   ]
  },
  {
   "cell_type": "code",
   "execution_count": 2,
   "metadata": {},
   "outputs": [],
   "source": [
    "import pandas as pd\n",
    "import numpy as np\n",
    "import altair as alt"
   ]
  },
  {
   "cell_type": "code",
   "execution_count": 3,
   "metadata": {},
   "outputs": [],
   "source": [
    "import re\n",
    "\n",
    "HOST = r'^(?P<host>.*?)'\n",
    "SPACE = r'\\s'\n",
    "IDENTITY = r'\\S+'\n",
    "USER = r'\\S+'\n",
    "TIME = r'(?P<time>\\[.*?\\])'\n",
    "REQUEST = r'\\\"(?P<request>.*?)\\\"'\n",
    "STATUS = r'(?P<status>\\d{3})'\n",
    "SIZE = r'(?P<size>\\S+)'\n",
    "\n",
    "REGEX = HOST+SPACE+IDENTITY+SPACE+USER+SPACE+TIME+SPACE+REQUEST+SPACE+STATUS+SPACE+SIZE+SPACE\n",
    "\n",
    "def parse_access_logs(log_line):\n",
    "    match = re.search(REGEX,log_line)\n",
    "    return ( (match.group('host'),\n",
    "            match.group('time'), \n",
    "                      match.group('request') , \n",
    "                      match.group('status') ,\n",
    "                      match.group('size')\n",
    "                     )\n",
    "                   )\n",
    "    return {\n",
    "        \"host\": match.group('host'),\n",
    "        \"time\": match.group('time'),\n",
    "        \"request\": match.group('request'),\n",
    "        \"status\": match.group('status'),\n",
    "        \"size\": match.group('size'),\n",
    "    }\n"
   ]
  },
  {
   "cell_type": "code",
   "execution_count": 4,
   "metadata": {},
   "outputs": [],
   "source": [
    "datafile = r\".\\testdata\\apache_logs\\apache.access.log.PROJECT.small.txt\""
   ]
  },
  {
   "cell_type": "code",
   "execution_count": 5,
   "metadata": {},
   "outputs": [],
   "source": [
    "os.path.exists(datafile)\n",
    "with open(datafile,\"r\") as f:\n",
    "    data = f.readlines()\n",
    "    parsed = map(parse_access_logs, data)\n",
    "\n",
    "logs = pd.DataFrame(list(parsed), columns= [\"host\", \"time\", \"request\", \"status\", \"size\"])"
   ]
  },
  {
   "cell_type": "code",
   "execution_count": 6,
   "metadata": {},
   "outputs": [],
   "source": [
    "def create_df(logfile):\n",
    "    os.path.exists(logfile)\n",
    "    with open(logfile,\"r\") as f:\n",
    "        data = f.readlines()\n",
    "        parsed = map(parse_access_logs, data)\n",
    "        return pd.DataFrame(list(parsed), columns= [\"host\", \"time\", \"request\", \"status\", \"size\"])"
   ]
  },
  {
   "cell_type": "code",
   "execution_count": 7,
   "metadata": {},
   "outputs": [
    {
     "data": {
      "text/html": [
       "<div>\n",
       "<style scoped>\n",
       "    .dataframe tbody tr th:only-of-type {\n",
       "        vertical-align: middle;\n",
       "    }\n",
       "\n",
       "    .dataframe tbody tr th {\n",
       "        vertical-align: top;\n",
       "    }\n",
       "\n",
       "    .dataframe thead th {\n",
       "        text-align: right;\n",
       "    }\n",
       "</style>\n",
       "<table border=\"1\" class=\"dataframe\">\n",
       "  <thead>\n",
       "    <tr style=\"text-align: right;\">\n",
       "      <th></th>\n",
       "      <th>host</th>\n",
       "      <th>time</th>\n",
       "      <th>request</th>\n",
       "      <th>status</th>\n",
       "      <th>size</th>\n",
       "    </tr>\n",
       "  </thead>\n",
       "  <tbody>\n",
       "    <tr>\n",
       "      <th>0</th>\n",
       "      <td>in24.inetnebr.com</td>\n",
       "      <td>[01/Aug/1995:00:00:01 -0400]</td>\n",
       "      <td>GET /shuttle/missions/sts-68/news/sts-68-mcc-0...</td>\n",
       "      <td>200</td>\n",
       "      <td>1839</td>\n",
       "    </tr>\n",
       "    <tr>\n",
       "      <th>1</th>\n",
       "      <td>uplherc.upl.com</td>\n",
       "      <td>[01/Aug/1995:00:00:07 -0400]</td>\n",
       "      <td>GET / HTTP/1.0</td>\n",
       "      <td>304</td>\n",
       "      <td>0</td>\n",
       "    </tr>\n",
       "    <tr>\n",
       "      <th>2</th>\n",
       "      <td>uplherc.upl.com</td>\n",
       "      <td>[01/Aug/1995:00:00:08 -0400]</td>\n",
       "      <td>GET /images/ksclogo-medium.gif HTTP/1.0</td>\n",
       "      <td>304</td>\n",
       "      <td>0</td>\n",
       "    </tr>\n",
       "    <tr>\n",
       "      <th>3</th>\n",
       "      <td>uplherc.upl.com</td>\n",
       "      <td>[01/Aug/1995:00:00:08 -0400]</td>\n",
       "      <td>GET /images/MOSAIC-logosmall.gif HTTP/1.0</td>\n",
       "      <td>304</td>\n",
       "      <td>0</td>\n",
       "    </tr>\n",
       "    <tr>\n",
       "      <th>4</th>\n",
       "      <td>uplherc.upl.com</td>\n",
       "      <td>[01/Aug/1995:00:00:08 -0400]</td>\n",
       "      <td>GET /images/USA-logosmall.gif HTTP/1.0</td>\n",
       "      <td>304</td>\n",
       "      <td>0</td>\n",
       "    </tr>\n",
       "  </tbody>\n",
       "</table>\n",
       "</div>"
      ],
      "text/plain": [
       "                host                          time  \\\n",
       "0  in24.inetnebr.com  [01/Aug/1995:00:00:01 -0400]   \n",
       "1    uplherc.upl.com  [01/Aug/1995:00:00:07 -0400]   \n",
       "2    uplherc.upl.com  [01/Aug/1995:00:00:08 -0400]   \n",
       "3    uplherc.upl.com  [01/Aug/1995:00:00:08 -0400]   \n",
       "4    uplherc.upl.com  [01/Aug/1995:00:00:08 -0400]   \n",
       "\n",
       "                                             request status  size  \n",
       "0  GET /shuttle/missions/sts-68/news/sts-68-mcc-0...    200  1839  \n",
       "1                                     GET / HTTP/1.0    304     0  \n",
       "2            GET /images/ksclogo-medium.gif HTTP/1.0    304     0  \n",
       "3          GET /images/MOSAIC-logosmall.gif HTTP/1.0    304     0  \n",
       "4             GET /images/USA-logosmall.gif HTTP/1.0    304     0  "
      ]
     },
     "execution_count": 7,
     "metadata": {},
     "output_type": "execute_result"
    }
   ],
   "source": [
    "logdir = r\".\\testdata\\apache_logs\"\n",
    "logfiles = map(lambda x: os.path.join(logdir,x), os.listdir(logdir))\n",
    "dataframes = map(create_df, logfiles)\n",
    "df = functools.reduce(lambda acc,x: pd.concat([acc,x], ignore_index=True) , dataframes, pd.DataFrame())\n",
    "\n",
    "df.head()"
   ]
  },
  {
   "cell_type": "code",
   "execution_count": 8,
   "metadata": {},
   "outputs": [
    {
     "data": {
      "text/plain": [
       "1043675"
      ]
     },
     "execution_count": 8,
     "metadata": {},
     "output_type": "execute_result"
    }
   ],
   "source": [
    "len(df)"
   ]
  },
  {
   "cell_type": "code",
   "execution_count": 9,
   "metadata": {},
   "outputs": [],
   "source": [
    "#logs = df.loc[:4000]\n",
    "logs = df"
   ]
  },
  {
   "cell_type": "markdown",
   "metadata": {},
   "source": [
    "# Explore Data #"
   ]
  },
  {
   "cell_type": "code",
   "execution_count": 10,
   "metadata": {
    "scrolled": true
   },
   "outputs": [
    {
     "data": {
      "text/html": [
       "<div>\n",
       "<style scoped>\n",
       "    .dataframe tbody tr th:only-of-type {\n",
       "        vertical-align: middle;\n",
       "    }\n",
       "\n",
       "    .dataframe tbody tr th {\n",
       "        vertical-align: top;\n",
       "    }\n",
       "\n",
       "    .dataframe thead th {\n",
       "        text-align: right;\n",
       "    }\n",
       "</style>\n",
       "<table border=\"1\" class=\"dataframe\">\n",
       "  <thead>\n",
       "    <tr style=\"text-align: right;\">\n",
       "      <th></th>\n",
       "      <th>host</th>\n",
       "      <th>time</th>\n",
       "      <th>request</th>\n",
       "      <th>status</th>\n",
       "      <th>size</th>\n",
       "    </tr>\n",
       "  </thead>\n",
       "  <tbody>\n",
       "    <tr>\n",
       "      <th>0</th>\n",
       "      <td>in24.inetnebr.com</td>\n",
       "      <td>[01/Aug/1995:00:00:01 -0400]</td>\n",
       "      <td>GET /shuttle/missions/sts-68/news/sts-68-mcc-0...</td>\n",
       "      <td>200</td>\n",
       "      <td>1839</td>\n",
       "    </tr>\n",
       "    <tr>\n",
       "      <th>1</th>\n",
       "      <td>uplherc.upl.com</td>\n",
       "      <td>[01/Aug/1995:00:00:07 -0400]</td>\n",
       "      <td>GET / HTTP/1.0</td>\n",
       "      <td>304</td>\n",
       "      <td>0</td>\n",
       "    </tr>\n",
       "    <tr>\n",
       "      <th>2</th>\n",
       "      <td>uplherc.upl.com</td>\n",
       "      <td>[01/Aug/1995:00:00:08 -0400]</td>\n",
       "      <td>GET /images/ksclogo-medium.gif HTTP/1.0</td>\n",
       "      <td>304</td>\n",
       "      <td>0</td>\n",
       "    </tr>\n",
       "    <tr>\n",
       "      <th>3</th>\n",
       "      <td>uplherc.upl.com</td>\n",
       "      <td>[01/Aug/1995:00:00:08 -0400]</td>\n",
       "      <td>GET /images/MOSAIC-logosmall.gif HTTP/1.0</td>\n",
       "      <td>304</td>\n",
       "      <td>0</td>\n",
       "    </tr>\n",
       "    <tr>\n",
       "      <th>4</th>\n",
       "      <td>uplherc.upl.com</td>\n",
       "      <td>[01/Aug/1995:00:00:08 -0400]</td>\n",
       "      <td>GET /images/USA-logosmall.gif HTTP/1.0</td>\n",
       "      <td>304</td>\n",
       "      <td>0</td>\n",
       "    </tr>\n",
       "  </tbody>\n",
       "</table>\n",
       "</div>"
      ],
      "text/plain": [
       "                host                          time  \\\n",
       "0  in24.inetnebr.com  [01/Aug/1995:00:00:01 -0400]   \n",
       "1    uplherc.upl.com  [01/Aug/1995:00:00:07 -0400]   \n",
       "2    uplherc.upl.com  [01/Aug/1995:00:00:08 -0400]   \n",
       "3    uplherc.upl.com  [01/Aug/1995:00:00:08 -0400]   \n",
       "4    uplherc.upl.com  [01/Aug/1995:00:00:08 -0400]   \n",
       "\n",
       "                                             request status  size  \n",
       "0  GET /shuttle/missions/sts-68/news/sts-68-mcc-0...    200  1839  \n",
       "1                                     GET / HTTP/1.0    304     0  \n",
       "2            GET /images/ksclogo-medium.gif HTTP/1.0    304     0  \n",
       "3          GET /images/MOSAIC-logosmall.gif HTTP/1.0    304     0  \n",
       "4             GET /images/USA-logosmall.gif HTTP/1.0    304     0  "
      ]
     },
     "execution_count": 10,
     "metadata": {},
     "output_type": "execute_result"
    }
   ],
   "source": [
    "logs.head()"
   ]
  },
  {
   "cell_type": "code",
   "execution_count": 11,
   "metadata": {},
   "outputs": [
    {
     "data": {
      "text/html": [
       "<div>\n",
       "<style scoped>\n",
       "    .dataframe tbody tr th:only-of-type {\n",
       "        vertical-align: middle;\n",
       "    }\n",
       "\n",
       "    .dataframe tbody tr th {\n",
       "        vertical-align: top;\n",
       "    }\n",
       "\n",
       "    .dataframe thead th {\n",
       "        text-align: right;\n",
       "    }\n",
       "</style>\n",
       "<table border=\"1\" class=\"dataframe\">\n",
       "  <thead>\n",
       "    <tr style=\"text-align: right;\">\n",
       "      <th></th>\n",
       "      <th>host</th>\n",
       "      <th>time</th>\n",
       "      <th>request</th>\n",
       "      <th>status</th>\n",
       "      <th>size</th>\n",
       "    </tr>\n",
       "  </thead>\n",
       "  <tbody>\n",
       "    <tr>\n",
       "      <th>count</th>\n",
       "      <td>1043675</td>\n",
       "      <td>1043675</td>\n",
       "      <td>1043675</td>\n",
       "      <td>1043675</td>\n",
       "      <td>1043675</td>\n",
       "    </tr>\n",
       "    <tr>\n",
       "      <th>unique</th>\n",
       "      <td>54507</td>\n",
       "      <td>658333</td>\n",
       "      <td>13044</td>\n",
       "      <td>7</td>\n",
       "      <td>5384</td>\n",
       "    </tr>\n",
       "    <tr>\n",
       "      <th>top</th>\n",
       "      <td>edams.ksc.nasa.gov</td>\n",
       "      <td>[01/Aug/1995:08:18:28 -0400]</td>\n",
       "      <td>GET /images/NASA-logosmall.gif HTTP/1.0</td>\n",
       "      <td>200</td>\n",
       "      <td>0</td>\n",
       "    </tr>\n",
       "    <tr>\n",
       "      <th>freq</th>\n",
       "      <td>4034</td>\n",
       "      <td>17</td>\n",
       "      <td>59387</td>\n",
       "      <td>941295</td>\n",
       "      <td>83898</td>\n",
       "    </tr>\n",
       "  </tbody>\n",
       "</table>\n",
       "</div>"
      ],
      "text/plain": [
       "                      host                          time  \\\n",
       "count              1043675                       1043675   \n",
       "unique               54507                        658333   \n",
       "top     edams.ksc.nasa.gov  [01/Aug/1995:08:18:28 -0400]   \n",
       "freq                  4034                            17   \n",
       "\n",
       "                                        request   status     size  \n",
       "count                                   1043675  1043675  1043675  \n",
       "unique                                    13044        7     5384  \n",
       "top     GET /images/NASA-logosmall.gif HTTP/1.0      200        0  \n",
       "freq                                      59387   941295    83898  "
      ]
     },
     "execution_count": 11,
     "metadata": {},
     "output_type": "execute_result"
    }
   ],
   "source": [
    "logs.describe()"
   ]
  },
  {
   "cell_type": "code",
   "execution_count": 12,
   "metadata": {},
   "outputs": [
    {
     "data": {
      "text/plain": [
       "host       object\n",
       "time       object\n",
       "request    object\n",
       "status     object\n",
       "size       object\n",
       "dtype: object"
      ]
     },
     "execution_count": 12,
     "metadata": {},
     "output_type": "execute_result"
    }
   ],
   "source": [
    "logs.dtypes"
   ]
  },
  {
   "cell_type": "code",
   "execution_count": 13,
   "metadata": {},
   "outputs": [
    {
     "data": {
      "text/html": [
       "<div>\n",
       "<style scoped>\n",
       "    .dataframe tbody tr th:only-of-type {\n",
       "        vertical-align: middle;\n",
       "    }\n",
       "\n",
       "    .dataframe tbody tr th {\n",
       "        vertical-align: top;\n",
       "    }\n",
       "\n",
       "    .dataframe thead th {\n",
       "        text-align: right;\n",
       "    }\n",
       "</style>\n",
       "<table border=\"1\" class=\"dataframe\">\n",
       "  <thead>\n",
       "    <tr style=\"text-align: right;\">\n",
       "      <th></th>\n",
       "      <th>host</th>\n",
       "      <th>time</th>\n",
       "      <th>request</th>\n",
       "      <th>status</th>\n",
       "      <th>size</th>\n",
       "    </tr>\n",
       "  </thead>\n",
       "  <tbody>\n",
       "    <tr>\n",
       "      <th>0</th>\n",
       "      <td>in24.inetnebr.com</td>\n",
       "      <td>[01/Aug/1995:00:00:01 -0400]</td>\n",
       "      <td>GET /shuttle/missions/sts-68/news/sts-68-mcc-0...</td>\n",
       "      <td>200</td>\n",
       "      <td>1839</td>\n",
       "    </tr>\n",
       "    <tr>\n",
       "      <th>5</th>\n",
       "      <td>ix-esc-ca2-07.ix.netcom.com</td>\n",
       "      <td>[01/Aug/1995:00:00:09 -0400]</td>\n",
       "      <td>GET /images/launch-logo.gif HTTP/1.0</td>\n",
       "      <td>200</td>\n",
       "      <td>1713</td>\n",
       "    </tr>\n",
       "    <tr>\n",
       "      <th>7</th>\n",
       "      <td>slppp6.intermind.net</td>\n",
       "      <td>[01/Aug/1995:00:00:10 -0400]</td>\n",
       "      <td>GET /history/skylab/skylab.html HTTP/1.0</td>\n",
       "      <td>200</td>\n",
       "      <td>1687</td>\n",
       "    </tr>\n",
       "    <tr>\n",
       "      <th>8</th>\n",
       "      <td>piweba4y.prodigy.com</td>\n",
       "      <td>[01/Aug/1995:00:00:10 -0400]</td>\n",
       "      <td>GET /images/launchmedium.gif HTTP/1.0</td>\n",
       "      <td>200</td>\n",
       "      <td>11853</td>\n",
       "    </tr>\n",
       "    <tr>\n",
       "      <th>9</th>\n",
       "      <td>slppp6.intermind.net</td>\n",
       "      <td>[01/Aug/1995:00:00:11 -0400]</td>\n",
       "      <td>GET /history/skylab/skylab-small.gif HTTP/1.0</td>\n",
       "      <td>200</td>\n",
       "      <td>9202</td>\n",
       "    </tr>\n",
       "  </tbody>\n",
       "</table>\n",
       "</div>"
      ],
      "text/plain": [
       "                          host                          time  \\\n",
       "0            in24.inetnebr.com  [01/Aug/1995:00:00:01 -0400]   \n",
       "5  ix-esc-ca2-07.ix.netcom.com  [01/Aug/1995:00:00:09 -0400]   \n",
       "7         slppp6.intermind.net  [01/Aug/1995:00:00:10 -0400]   \n",
       "8         piweba4y.prodigy.com  [01/Aug/1995:00:00:10 -0400]   \n",
       "9         slppp6.intermind.net  [01/Aug/1995:00:00:11 -0400]   \n",
       "\n",
       "                                             request status   size  \n",
       "0  GET /shuttle/missions/sts-68/news/sts-68-mcc-0...    200   1839  \n",
       "5               GET /images/launch-logo.gif HTTP/1.0    200   1713  \n",
       "7           GET /history/skylab/skylab.html HTTP/1.0    200   1687  \n",
       "8              GET /images/launchmedium.gif HTTP/1.0    200  11853  \n",
       "9      GET /history/skylab/skylab-small.gif HTTP/1.0    200   9202  "
      ]
     },
     "execution_count": 13,
     "metadata": {},
     "output_type": "execute_result"
    }
   ],
   "source": [
    "## filtering\n",
    "_ = logs[logs[\"status\"] == \"200\"]\n",
    "_.head()"
   ]
  },
  {
   "cell_type": "code",
   "execution_count": 14,
   "metadata": {},
   "outputs": [],
   "source": [
    "_ = logs.groupby([\"status\"]).groups"
   ]
  },
  {
   "cell_type": "markdown",
   "metadata": {},
   "source": [
    "### Grouping ###"
   ]
  },
  {
   "cell_type": "code",
   "execution_count": 15,
   "metadata": {},
   "outputs": [
    {
     "name": "stdout",
     "output_type": "stream",
     "text": [
      "200\n",
      "302\n",
      "304\n",
      "403\n",
      "404\n",
      "500\n",
      "501\n"
     ]
    }
   ],
   "source": [
    "for name,group in logs.groupby([\"status\"]):\n",
    "   print(name)"
   ]
  },
  {
   "cell_type": "code",
   "execution_count": 16,
   "metadata": {},
   "outputs": [
    {
     "data": {
      "text/html": [
       "<div>\n",
       "<style scoped>\n",
       "    .dataframe tbody tr th:only-of-type {\n",
       "        vertical-align: middle;\n",
       "    }\n",
       "\n",
       "    .dataframe tbody tr th {\n",
       "        vertical-align: top;\n",
       "    }\n",
       "\n",
       "    .dataframe thead th {\n",
       "        text-align: right;\n",
       "    }\n",
       "</style>\n",
       "<table border=\"1\" class=\"dataframe\">\n",
       "  <thead>\n",
       "    <tr style=\"text-align: right;\">\n",
       "      <th></th>\n",
       "      <th>host</th>\n",
       "      <th>time</th>\n",
       "      <th>request</th>\n",
       "      <th>status</th>\n",
       "      <th>size</th>\n",
       "    </tr>\n",
       "  </thead>\n",
       "  <tbody>\n",
       "    <tr>\n",
       "      <th>47</th>\n",
       "      <td>www-c3.proxy.aol.com</td>\n",
       "      <td>[01/Aug/1995:00:00:57 -0400]</td>\n",
       "      <td>GET /cgi-bin/imagemap/countdown70?285,291 HTTP...</td>\n",
       "      <td>302</td>\n",
       "      <td>85</td>\n",
       "    </tr>\n",
       "    <tr>\n",
       "      <th>107</th>\n",
       "      <td>205.163.36.61</td>\n",
       "      <td>[01/Aug/1995:00:02:10 -0400]</td>\n",
       "      <td>GET /cgi-bin/imagemap/countdown70?342,281 HTTP...</td>\n",
       "      <td>302</td>\n",
       "      <td>98</td>\n",
       "    </tr>\n",
       "    <tr>\n",
       "      <th>122</th>\n",
       "      <td>rpgopher.aist.go.jp</td>\n",
       "      <td>[01/Aug/1995:00:02:45 -0400]</td>\n",
       "      <td>GET /cgi-bin/imagemap/countdown70?181,275 HTTP...</td>\n",
       "      <td>302</td>\n",
       "      <td>110</td>\n",
       "    </tr>\n",
       "    <tr>\n",
       "      <th>158</th>\n",
       "      <td>gw1.att.com</td>\n",
       "      <td>[01/Aug/1995:00:03:53 -0400]</td>\n",
       "      <td>GET /shuttle/missions/sts-73/news HTTP/1.0</td>\n",
       "      <td>302</td>\n",
       "      <td>-</td>\n",
       "    </tr>\n",
       "    <tr>\n",
       "      <th>165</th>\n",
       "      <td>rpgopher.aist.go.jp</td>\n",
       "      <td>[01/Aug/1995:00:04:05 -0400]</td>\n",
       "      <td>GET /cgi-bin/imagemap/countdown70?51,156 HTTP/1.0</td>\n",
       "      <td>302</td>\n",
       "      <td>111</td>\n",
       "    </tr>\n",
       "  </tbody>\n",
       "</table>\n",
       "</div>"
      ],
      "text/plain": [
       "                     host                          time  \\\n",
       "47   www-c3.proxy.aol.com  [01/Aug/1995:00:00:57 -0400]   \n",
       "107         205.163.36.61  [01/Aug/1995:00:02:10 -0400]   \n",
       "122   rpgopher.aist.go.jp  [01/Aug/1995:00:02:45 -0400]   \n",
       "158           gw1.att.com  [01/Aug/1995:00:03:53 -0400]   \n",
       "165   rpgopher.aist.go.jp  [01/Aug/1995:00:04:05 -0400]   \n",
       "\n",
       "                                               request status size  \n",
       "47   GET /cgi-bin/imagemap/countdown70?285,291 HTTP...    302   85  \n",
       "107  GET /cgi-bin/imagemap/countdown70?342,281 HTTP...    302   98  \n",
       "122  GET /cgi-bin/imagemap/countdown70?181,275 HTTP...    302  110  \n",
       "158         GET /shuttle/missions/sts-73/news HTTP/1.0    302    -  \n",
       "165  GET /cgi-bin/imagemap/countdown70?51,156 HTTP/1.0    302  111  "
      ]
     },
     "execution_count": 16,
     "metadata": {},
     "output_type": "execute_result"
    }
   ],
   "source": [
    "logs.groupby([\"status\"]).get_group(\"302\").head()"
   ]
  },
  {
   "cell_type": "code",
   "execution_count": 17,
   "metadata": {},
   "outputs": [
    {
     "data": {
      "text/html": [
       "<div>\n",
       "<style scoped>\n",
       "    .dataframe tbody tr th:only-of-type {\n",
       "        vertical-align: middle;\n",
       "    }\n",
       "\n",
       "    .dataframe tbody tr th {\n",
       "        vertical-align: top;\n",
       "    }\n",
       "\n",
       "    .dataframe thead th {\n",
       "        text-align: right;\n",
       "    }\n",
       "</style>\n",
       "<table border=\"1\" class=\"dataframe\">\n",
       "  <thead>\n",
       "    <tr style=\"text-align: right;\">\n",
       "      <th></th>\n",
       "      <th>host</th>\n",
       "      <th>time</th>\n",
       "      <th>request</th>\n",
       "      <th>size</th>\n",
       "    </tr>\n",
       "    <tr>\n",
       "      <th>status</th>\n",
       "      <th></th>\n",
       "      <th></th>\n",
       "      <th></th>\n",
       "      <th></th>\n",
       "    </tr>\n",
       "  </thead>\n",
       "  <tbody>\n",
       "    <tr>\n",
       "      <th>200</th>\n",
       "      <td>941295</td>\n",
       "      <td>941295</td>\n",
       "      <td>941295</td>\n",
       "      <td>941295</td>\n",
       "    </tr>\n",
       "    <tr>\n",
       "      <th>302</th>\n",
       "      <td>16253</td>\n",
       "      <td>16253</td>\n",
       "      <td>16253</td>\n",
       "      <td>16253</td>\n",
       "    </tr>\n",
       "    <tr>\n",
       "      <th>304</th>\n",
       "      <td>79864</td>\n",
       "      <td>79864</td>\n",
       "      <td>79864</td>\n",
       "      <td>79864</td>\n",
       "    </tr>\n",
       "    <tr>\n",
       "      <th>403</th>\n",
       "      <td>58</td>\n",
       "      <td>58</td>\n",
       "      <td>58</td>\n",
       "      <td>58</td>\n",
       "    </tr>\n",
       "    <tr>\n",
       "      <th>404</th>\n",
       "      <td>6186</td>\n",
       "      <td>6186</td>\n",
       "      <td>6186</td>\n",
       "      <td>6186</td>\n",
       "    </tr>\n",
       "    <tr>\n",
       "      <th>500</th>\n",
       "      <td>2</td>\n",
       "      <td>2</td>\n",
       "      <td>2</td>\n",
       "      <td>2</td>\n",
       "    </tr>\n",
       "    <tr>\n",
       "      <th>501</th>\n",
       "      <td>17</td>\n",
       "      <td>17</td>\n",
       "      <td>17</td>\n",
       "      <td>17</td>\n",
       "    </tr>\n",
       "  </tbody>\n",
       "</table>\n",
       "</div>"
      ],
      "text/plain": [
       "          host    time  request    size\n",
       "status                                 \n",
       "200     941295  941295   941295  941295\n",
       "302      16253   16253    16253   16253\n",
       "304      79864   79864    79864   79864\n",
       "403         58      58       58      58\n",
       "404       6186    6186     6186    6186\n",
       "500          2       2        2       2\n",
       "501         17      17       17      17"
      ]
     },
     "execution_count": 17,
     "metadata": {},
     "output_type": "execute_result"
    }
   ],
   "source": [
    "logs.groupby([\"status\"]).count()"
   ]
  },
  {
   "cell_type": "markdown",
   "metadata": {},
   "source": [
    "### Transformations ###"
   ]
  },
  {
   "cell_type": "code",
   "execution_count": 18,
   "metadata": {},
   "outputs": [],
   "source": [
    "def convert_to_int(x):\n",
    "    try:\n",
    "        return int(x)\n",
    "    except:\n",
    "        return -1\n",
    "\n",
    "logs[\"size\"] = logs[\"size\"].apply(convert_to_int)"
   ]
  },
  {
   "cell_type": "code",
   "execution_count": 19,
   "metadata": {},
   "outputs": [],
   "source": [
    "def convert_to_datetime(s):\n",
    "    import dateutil.parser\n",
    "    s = s[1: len(s)-1]\n",
    "    return dateutil.parser.parse(s[:11] + \" \" + s[12:])\n",
    "    \n",
    "logs[\"time\"] = logs[\"time\"].apply(convert_to_datetime)"
   ]
  },
  {
   "cell_type": "code",
   "execution_count": 20,
   "metadata": {},
   "outputs": [],
   "source": [
    "def day_of_week(d):\n",
    "    import datetime\n",
    "    days = [\"Monday\",\"Tuesday\",\"Wednesday\",\"Thursday\",\"Friday\",\"Saturday\",\"Sunday\"] \n",
    "    weekday = d.weekday()\n",
    "    return days[weekday]\n",
    "\n",
    "logs[\"day\"] = logs[\"time\"].apply(day_of_week)"
   ]
  },
  {
   "cell_type": "code",
   "execution_count": 21,
   "metadata": {},
   "outputs": [
    {
     "data": {
      "text/html": [
       "<div>\n",
       "<style scoped>\n",
       "    .dataframe tbody tr th:only-of-type {\n",
       "        vertical-align: middle;\n",
       "    }\n",
       "\n",
       "    .dataframe tbody tr th {\n",
       "        vertical-align: top;\n",
       "    }\n",
       "\n",
       "    .dataframe thead th {\n",
       "        text-align: right;\n",
       "    }\n",
       "</style>\n",
       "<table border=\"1\" class=\"dataframe\">\n",
       "  <thead>\n",
       "    <tr style=\"text-align: right;\">\n",
       "      <th></th>\n",
       "      <th>host</th>\n",
       "      <th>time</th>\n",
       "      <th>request</th>\n",
       "      <th>status</th>\n",
       "      <th>size</th>\n",
       "      <th>day</th>\n",
       "    </tr>\n",
       "  </thead>\n",
       "  <tbody>\n",
       "    <tr>\n",
       "      <th>0</th>\n",
       "      <td>in24.inetnebr.com</td>\n",
       "      <td>1995-08-01 00:00:01-04:00</td>\n",
       "      <td>GET /shuttle/missions/sts-68/news/sts-68-mcc-0...</td>\n",
       "      <td>200</td>\n",
       "      <td>1839</td>\n",
       "      <td>Tuesday</td>\n",
       "    </tr>\n",
       "    <tr>\n",
       "      <th>1</th>\n",
       "      <td>uplherc.upl.com</td>\n",
       "      <td>1995-08-01 00:00:07-04:00</td>\n",
       "      <td>GET / HTTP/1.0</td>\n",
       "      <td>304</td>\n",
       "      <td>0</td>\n",
       "      <td>Tuesday</td>\n",
       "    </tr>\n",
       "    <tr>\n",
       "      <th>2</th>\n",
       "      <td>uplherc.upl.com</td>\n",
       "      <td>1995-08-01 00:00:08-04:00</td>\n",
       "      <td>GET /images/ksclogo-medium.gif HTTP/1.0</td>\n",
       "      <td>304</td>\n",
       "      <td>0</td>\n",
       "      <td>Tuesday</td>\n",
       "    </tr>\n",
       "    <tr>\n",
       "      <th>3</th>\n",
       "      <td>uplherc.upl.com</td>\n",
       "      <td>1995-08-01 00:00:08-04:00</td>\n",
       "      <td>GET /images/MOSAIC-logosmall.gif HTTP/1.0</td>\n",
       "      <td>304</td>\n",
       "      <td>0</td>\n",
       "      <td>Tuesday</td>\n",
       "    </tr>\n",
       "    <tr>\n",
       "      <th>4</th>\n",
       "      <td>uplherc.upl.com</td>\n",
       "      <td>1995-08-01 00:00:08-04:00</td>\n",
       "      <td>GET /images/USA-logosmall.gif HTTP/1.0</td>\n",
       "      <td>304</td>\n",
       "      <td>0</td>\n",
       "      <td>Tuesday</td>\n",
       "    </tr>\n",
       "  </tbody>\n",
       "</table>\n",
       "</div>"
      ],
      "text/plain": [
       "                host                      time  \\\n",
       "0  in24.inetnebr.com 1995-08-01 00:00:01-04:00   \n",
       "1    uplherc.upl.com 1995-08-01 00:00:07-04:00   \n",
       "2    uplherc.upl.com 1995-08-01 00:00:08-04:00   \n",
       "3    uplherc.upl.com 1995-08-01 00:00:08-04:00   \n",
       "4    uplherc.upl.com 1995-08-01 00:00:08-04:00   \n",
       "\n",
       "                                             request status  size      day  \n",
       "0  GET /shuttle/missions/sts-68/news/sts-68-mcc-0...    200  1839  Tuesday  \n",
       "1                                     GET / HTTP/1.0    304     0  Tuesday  \n",
       "2            GET /images/ksclogo-medium.gif HTTP/1.0    304     0  Tuesday  \n",
       "3          GET /images/MOSAIC-logosmall.gif HTTP/1.0    304     0  Tuesday  \n",
       "4             GET /images/USA-logosmall.gif HTTP/1.0    304     0  Tuesday  "
      ]
     },
     "execution_count": 21,
     "metadata": {},
     "output_type": "execute_result"
    }
   ],
   "source": [
    "logs.head()"
   ]
  },
  {
   "cell_type": "code",
   "execution_count": 22,
   "metadata": {},
   "outputs": [
    {
     "data": {
      "text/plain": [
       "host                                       object\n",
       "time       datetime64[ns, tzoffset(None, -14400)]\n",
       "request                                    object\n",
       "status                                     object\n",
       "size                                        int64\n",
       "day                                        object\n",
       "dtype: object"
      ]
     },
     "execution_count": 22,
     "metadata": {},
     "output_type": "execute_result"
    }
   ],
   "source": [
    "logs.dtypes"
   ]
  },
  {
   "cell_type": "code",
   "execution_count": 23,
   "metadata": {},
   "outputs": [
    {
     "name": "stdout",
     "output_type": "stream",
     "text": [
      "Failed records: 8758\n"
     ]
    },
    {
     "data": {
      "text/html": [
       "<div>\n",
       "<style scoped>\n",
       "    .dataframe tbody tr th:only-of-type {\n",
       "        vertical-align: middle;\n",
       "    }\n",
       "\n",
       "    .dataframe tbody tr th {\n",
       "        vertical-align: top;\n",
       "    }\n",
       "\n",
       "    .dataframe thead th {\n",
       "        text-align: right;\n",
       "    }\n",
       "</style>\n",
       "<table border=\"1\" class=\"dataframe\">\n",
       "  <thead>\n",
       "    <tr style=\"text-align: right;\">\n",
       "      <th></th>\n",
       "      <th>host</th>\n",
       "      <th>time</th>\n",
       "      <th>request</th>\n",
       "      <th>status</th>\n",
       "      <th>size</th>\n",
       "      <th>day</th>\n",
       "    </tr>\n",
       "  </thead>\n",
       "  <tbody>\n",
       "    <tr>\n",
       "      <th>158</th>\n",
       "      <td>gw1.att.com</td>\n",
       "      <td>1995-08-01 00:03:53-04:00</td>\n",
       "      <td>GET /shuttle/missions/sts-73/news HTTP/1.0</td>\n",
       "      <td>302</td>\n",
       "      <td>-1</td>\n",
       "      <td>Tuesday</td>\n",
       "    </tr>\n",
       "    <tr>\n",
       "      <th>321</th>\n",
       "      <td>js002.cc.utsunomiya-u.ac.jp</td>\n",
       "      <td>1995-08-01 00:07:33-04:00</td>\n",
       "      <td>GET /shuttle/resources/orbiters/discovery.gif ...</td>\n",
       "      <td>404</td>\n",
       "      <td>-1</td>\n",
       "      <td>Tuesday</td>\n",
       "    </tr>\n",
       "    <tr>\n",
       "      <th>658</th>\n",
       "      <td>gw1.att.com</td>\n",
       "      <td>1995-08-01 00:03:53-04:00</td>\n",
       "      <td>GET /shuttle/missions/sts-73/news HTTP/1.0</td>\n",
       "      <td>302</td>\n",
       "      <td>-1</td>\n",
       "      <td>Tuesday</td>\n",
       "    </tr>\n",
       "    <tr>\n",
       "      <th>821</th>\n",
       "      <td>js002.cc.utsunomiya-u.ac.jp</td>\n",
       "      <td>1995-08-01 00:07:33-04:00</td>\n",
       "      <td>GET /shuttle/resources/orbiters/discovery.gif ...</td>\n",
       "      <td>404</td>\n",
       "      <td>-1</td>\n",
       "      <td>Tuesday</td>\n",
       "    </tr>\n",
       "    <tr>\n",
       "      <th>1279</th>\n",
       "      <td>tia1.eskimo.com</td>\n",
       "      <td>1995-08-01 00:28:41-04:00</td>\n",
       "      <td>GET /pub/winvn/release.txt HTTP/1.0</td>\n",
       "      <td>404</td>\n",
       "      <td>-1</td>\n",
       "      <td>Tuesday</td>\n",
       "    </tr>\n",
       "  </tbody>\n",
       "</table>\n",
       "</div>"
      ],
      "text/plain": [
       "                             host                      time  \\\n",
       "158                   gw1.att.com 1995-08-01 00:03:53-04:00   \n",
       "321   js002.cc.utsunomiya-u.ac.jp 1995-08-01 00:07:33-04:00   \n",
       "658                   gw1.att.com 1995-08-01 00:03:53-04:00   \n",
       "821   js002.cc.utsunomiya-u.ac.jp 1995-08-01 00:07:33-04:00   \n",
       "1279              tia1.eskimo.com 1995-08-01 00:28:41-04:00   \n",
       "\n",
       "                                                request status  size      day  \n",
       "158          GET /shuttle/missions/sts-73/news HTTP/1.0    302    -1  Tuesday  \n",
       "321   GET /shuttle/resources/orbiters/discovery.gif ...    404    -1  Tuesday  \n",
       "658          GET /shuttle/missions/sts-73/news HTTP/1.0    302    -1  Tuesday  \n",
       "821   GET /shuttle/resources/orbiters/discovery.gif ...    404    -1  Tuesday  \n",
       "1279                GET /pub/winvn/release.txt HTTP/1.0    404    -1  Tuesday  "
      ]
     },
     "execution_count": 23,
     "metadata": {},
     "output_type": "execute_result"
    }
   ],
   "source": [
    "failed_records = logs[logs[\"size\"] == -1]\n",
    "print(f\"Failed records: {len(failed_records)}\")\n",
    "failed_records.head()"
   ]
  },
  {
   "cell_type": "code",
   "execution_count": 24,
   "metadata": {},
   "outputs": [
    {
     "name": "stdout",
     "output_type": "stream",
     "text": [
      "Friday\n",
      "Monday\n",
      "Saturday\n",
      "Sunday\n",
      "Thursday\n",
      "Tuesday\n",
      "Wednesday\n"
     ]
    }
   ],
   "source": [
    "for name,group in logs.groupby([\"day\"]):\n",
    "   print(name)"
   ]
  },
  {
   "cell_type": "markdown",
   "metadata": {},
   "source": [
    "# Visualize #"
   ]
  },
  {
   "cell_type": "code",
   "execution_count": 25,
   "metadata": {},
   "outputs": [
    {
     "data": {
      "text/plain": [
       "RendererRegistry.enable('notebook')"
      ]
     },
     "execution_count": 25,
     "metadata": {},
     "output_type": "execute_result"
    }
   ],
   "source": [
    "alt.renderers.enable('notebook')"
   ]
  },
  {
   "cell_type": "code",
   "execution_count": 26,
   "metadata": {},
   "outputs": [
    {
     "data": {
      "application/javascript": [
       "var spec = {\"config\": {\"view\": {\"width\": 400, \"height\": 300}, \"mark\": {\"tooltip\": null}}, \"data\": {\"url\": \"altair-data-daad3e169a512f6d865516756fd96448.json\", \"format\": {\"type\": \"json\"}}, \"mark\": \"bar\", \"encoding\": {\"x\": {\"type\": \"nominal\", \"field\": \"status\"}, \"y\": {\"type\": \"quantitative\", \"aggregate\": \"count\", \"field\": \"*\"}}, \"$schema\": \"https://vega.github.io/schema/vega-lite/v3.2.1.json\"};\n",
       "var opt = {};\n",
       "var type = \"vega-lite\";\n",
       "var id = \"8f842679-ce57-487e-98cf-b200cc91c9f0\";\n",
       "\n",
       "var output_area = this;\n",
       "\n",
       "require([\"nbextensions/jupyter-vega/index\"], function(vega) {\n",
       "  var target = document.createElement(\"div\");\n",
       "  target.id = id;\n",
       "  target.className = \"vega-embed\";\n",
       "\n",
       "  var style = document.createElement(\"style\");\n",
       "  style.textContent = [\n",
       "    \".vega-embed .error p {\",\n",
       "    \"  color: firebrick;\",\n",
       "    \"  font-size: 14px;\",\n",
       "    \"}\",\n",
       "  ].join(\"\\\\n\");\n",
       "\n",
       "  // element is a jQuery wrapped DOM element inside the output area\n",
       "  // see http://ipython.readthedocs.io/en/stable/api/generated/\\\n",
       "  // IPython.display.html#IPython.display.Javascript.__init__\n",
       "  element[0].appendChild(target);\n",
       "  element[0].appendChild(style);\n",
       "\n",
       "  vega.render(\"#\" + id, spec, type, opt, output_area);\n",
       "}, function (err) {\n",
       "  if (err.requireType !== \"scripterror\") {\n",
       "    throw(err);\n",
       "  }\n",
       "});\n"
      ],
      "text/plain": [
       "<vega.vegalite.VegaLite at 0x24c0f57d400>"
      ]
     },
     "metadata": {
      "jupyter-vega": "#8f842679-ce57-487e-98cf-b200cc91c9f0"
     },
     "output_type": "display_data"
    },
    {
     "data": {
      "text/plain": []
     },
     "execution_count": 26,
     "metadata": {},
     "output_type": "execute_result"
    },
    {
     "data": {
      "image/png": "[encoded data removed]"
     },
     "metadata": {
      "jupyter-vega": "#8f842679-ce57-487e-98cf-b200cc91c9f0"
     },
     "output_type": "display_data"
    }
   ],
   "source": [
    "#testlogs = logs.loc[:4000]\n",
    "testlogs = logs\n",
    "alt.data_transformers.enable('json')\n",
    "alt.Chart(testlogs).mark_bar().encode(\n",
    "    x = 'status',\n",
    "    y = 'count(*):Q'\n",
    ")"
   ]
  },
  {
   "cell_type": "code",
   "execution_count": 30,
   "metadata": {},
   "outputs": [
    {
     "data": {
      "application/javascript": [
       "var spec = {\"config\": {\"view\": {\"width\": 400, \"height\": 300}, \"mark\": {\"tooltip\": null}}, \"data\": {\"url\": \"altair-data-daad3e169a512f6d865516756fd96448.json\", \"format\": {\"type\": \"json\"}}, \"mark\": \"bar\", \"encoding\": {\"x\": {\"type\": \"nominal\", \"field\": \"day\"}, \"y\": {\"type\": \"quantitative\", \"aggregate\": \"count\", \"field\": \"*\"}}, \"$schema\": \"https://vega.github.io/schema/vega-lite/v3.2.1.json\"};\n",
       "var opt = {};\n",
       "var type = \"vega-lite\";\n",
       "var id = \"c528323d-c890-4a97-b99e-0bb381fc36da\";\n",
       "\n",
       "var output_area = this;\n",
       "\n",
       "require([\"nbextensions/jupyter-vega/index\"], function(vega) {\n",
       "  var target = document.createElement(\"div\");\n",
       "  target.id = id;\n",
       "  target.className = \"vega-embed\";\n",
       "\n",
       "  var style = document.createElement(\"style\");\n",
       "  style.textContent = [\n",
       "    \".vega-embed .error p {\",\n",
       "    \"  color: firebrick;\",\n",
       "    \"  font-size: 14px;\",\n",
       "    \"}\",\n",
       "  ].join(\"\\\\n\");\n",
       "\n",
       "  // element is a jQuery wrapped DOM element inside the output area\n",
       "  // see http://ipython.readthedocs.io/en/stable/api/generated/\\\n",
       "  // IPython.display.html#IPython.display.Javascript.__init__\n",
       "  element[0].appendChild(target);\n",
       "  element[0].appendChild(style);\n",
       "\n",
       "  vega.render(\"#\" + id, spec, type, opt, output_area);\n",
       "}, function (err) {\n",
       "  if (err.requireType !== \"scripterror\") {\n",
       "    throw(err);\n",
       "  }\n",
       "});\n"
      ],
      "text/plain": [
       "<vega.vegalite.VegaLite at 0x24c0e96e278>"
      ]
     },
     "metadata": {
      "jupyter-vega": "#c528323d-c890-4a97-b99e-0bb381fc36da"
     },
     "output_type": "display_data"
    },
    {
     "data": {
      "text/plain": []
     },
     "execution_count": 30,
     "metadata": {},
     "output_type": "execute_result"
    },
    {
     "data": {
      "image/png": "[encoded data removed]"
     },
     "metadata": {
      "jupyter-vega": "#c528323d-c890-4a97-b99e-0bb381fc36da"
     },
     "output_type": "display_data"
    }
   ],
   "source": [
    "testlogs = logs\n",
    "alt.data_transformers.enable('json')\n",
    "alt.Chart(testlogs).mark_bar().encode(\n",
    "    x = 'day',\n",
    "    y = 'count(*):Q'\n",
    ")"
   ]
  },
  {
   "cell_type": "markdown",
   "metadata": {},
   "source": [
    "# Other Examples #"
   ]
  },
  {
   "cell_type": "code",
   "execution_count": 27,
   "metadata": {},
   "outputs": [
    {
     "data": {
      "application/javascript": [
       "var spec = {\"config\": {\"view\": {\"width\": 400, \"height\": 300}, \"mark\": {\"tooltip\": null}}, \"layer\": [{\"data\": {\"url\": \"https://vega.github.io/vega-datasets/data/us-10m.json\", \"format\": {\"feature\": \"states\", \"type\": \"topojson\"}}, \"mark\": {\"type\": \"geoshape\", \"fill\": \"lightgray\", \"stroke\": \"white\"}, \"height\": 300, \"projection\": {\"type\": \"albersUsa\"}, \"width\": 500}, {\"data\": {\"url\": \"https://vega.github.io/vega-datasets/data/airports.csv\"}, \"mark\": \"circle\", \"encoding\": {\"color\": {\"value\": \"steelblue\"}, \"latitude\": {\"field\": \"latitude\", \"type\": \"quantitative\"}, \"longitude\": {\"field\": \"longitude\", \"type\": \"quantitative\"}, \"size\": {\"type\": \"quantitative\", \"field\": \"count\", \"title\": \"Number of Airports\"}, \"tooltip\": [{\"type\": \"nominal\", \"field\": \"state\"}, {\"type\": \"quantitative\", \"field\": \"count\"}]}, \"title\": \"Number of airports in US\", \"transform\": [{\"aggregate\": [{\"op\": \"mean\", \"field\": \"latitude\", \"as\": \"latitude\"}, {\"op\": \"mean\", \"field\": \"longitude\", \"as\": \"longitude\"}, {\"op\": \"count\", \"as\": \"count\"}], \"groupby\": [\"state\"]}]}], \"$schema\": \"https://vega.github.io/schema/vega-lite/v3.2.1.json\"};\n",
       "var opt = {};\n",
       "var type = \"vega-lite\";\n",
       "var id = \"2c5072a3-1db0-4739-a911-da05bad4d968\";\n",
       "\n",
       "var output_area = this;\n",
       "\n",
       "require([\"nbextensions/jupyter-vega/index\"], function(vega) {\n",
       "  var target = document.createElement(\"div\");\n",
       "  target.id = id;\n",
       "  target.className = \"vega-embed\";\n",
       "\n",
       "  var style = document.createElement(\"style\");\n",
       "  style.textContent = [\n",
       "    \".vega-embed .error p {\",\n",
       "    \"  color: firebrick;\",\n",
       "    \"  font-size: 14px;\",\n",
       "    \"}\",\n",
       "  ].join(\"\\\\n\");\n",
       "\n",
       "  // element is a jQuery wrapped DOM element inside the output area\n",
       "  // see http://ipython.readthedocs.io/en/stable/api/generated/\\\n",
       "  // IPython.display.html#IPython.display.Javascript.__init__\n",
       "  element[0].appendChild(target);\n",
       "  element[0].appendChild(style);\n",
       "\n",
       "  vega.render(\"#\" + id, spec, type, opt, output_area);\n",
       "}, function (err) {\n",
       "  if (err.requireType !== \"scripterror\") {\n",
       "    throw(err);\n",
       "  }\n",
       "});\n"
      ],
      "text/plain": [
       "<vega.vegalite.VegaLite at 0x24c25ce1780>"
      ]
     },
     "metadata": {
      "jupyter-vega": "#2c5072a3-1db0-4739-a911-da05bad4d968"
     },
     "output_type": "display_data"
    },
    {
     "data": {
      "text/plain": []
     },
     "execution_count": 27,
     "metadata": {},
     "output_type": "execute_result"
    },
    {
     "data": {
      "image/png": "[encoded data removed]"
     },
     "metadata": {
      "jupyter-vega": "#2c5072a3-1db0-4739-a911-da05bad4d968"
     },
     "output_type": "display_data"
    }
   ],
   "source": [
    "#Ref: https://altair-viz.github.io/gallery/airports_count.html\n",
    "\n",
    "import altair as alt\n",
    "from vega_datasets import data\n",
    "\n",
    "airports = data.airports.url\n",
    "states = alt.topo_feature(data.us_10m.url, feature='states')\n",
    "\n",
    "# US states background\n",
    "background = alt.Chart(states).mark_geoshape(\n",
    "    fill='lightgray',\n",
    "    stroke='white'\n",
    ").properties(\n",
    "    width=500,\n",
    "    height=300\n",
    ").project('albersUsa')\n",
    "\n",
    "# airport positions on background\n",
    "points = alt.Chart(airports).transform_aggregate(\n",
    "    latitude='mean(latitude)',\n",
    "    longitude='mean(longitude)',\n",
    "    count='count()',\n",
    "    groupby=['state']\n",
    ").mark_circle().encode(\n",
    "    longitude='longitude:Q',\n",
    "    latitude='latitude:Q',\n",
    "    size=alt.Size('count:Q', title='Number of Airports'),\n",
    "    color=alt.value('steelblue'),\n",
    "    tooltip=['state:N','count:Q']\n",
    ").properties(\n",
    "    title='Number of airports in US'\n",
    ")\n",
    "\n",
    "background + points"
   ]
  },
  {
   "cell_type": "markdown",
   "metadata": {},
   "source": [
    "## Sandbox ##"
   ]
  },
  {
   "cell_type": "code",
   "execution_count": 28,
   "metadata": {},
   "outputs": [],
   "source": [
    "def locate_host(ip):\n",
    "    import requests\n",
    "    url = f\"https://tools.keycdn.com/geo.json?host={ip}\"\n",
    "    resp = requests.get(url)\n",
    "    assert resp.status_code == 200, f\"REST API failed with code {resp.status_code}\"\n",
    "    return resp.json()"
   ]
  },
  {
   "cell_type": "code",
   "execution_count": null,
   "metadata": {},
   "outputs": [],
   "source": []
  }
 ],
 "metadata": {
  "kernelspec": {
   "display_name": "Python 3",
   "language": "python",
   "name": "python3"
  },
  "language_info": {
   "codemirror_mode": {
    "name": "ipython",
    "version": 3
   },
   "file_extension": ".py",
   "mimetype": "text/x-python",
   "name": "python",
   "nbconvert_exporter": "python",
   "pygments_lexer": "ipython3",
   "version": "3.7.1"
  }
 },
 "nbformat": 4,
 "nbformat_minor": 2
}
